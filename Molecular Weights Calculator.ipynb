{
 "cells": [
  {
   "cell_type": "code",
   "execution_count": 8,
   "metadata": {},
   "outputs": [],
   "source": [
    "\"\"\" Molecular mass \"\"\"\n",
    "import re"
   ]
  },
  {
   "cell_type": "code",
   "execution_count": 14,
   "metadata": {},
   "outputs": [],
   "source": [
    "atomic_mass = {\"H\": 1.0079, \"He\": 4.0026, \"Li\": 6.941, \"Be\": 9.0122,\n",
    "     \"B\": 10.811, \"C\": 12.011, \"N\": 14.007, \"O\": 15.999, \"F\": 18.998,\n",
    "     \"Ne\": 20.180, \"Na\": 22.990, \"Mg\": 24.305, \"Al\": 26.982,\n",
    "     \"Si\": 28.086, \"P\": 30.974, \"S\": 32.065, \"Cl\": 35.453,\n",
    "     \"Ar\": 39.948, \"K\": 39.098, \"Ca\": 40.078, \"Sc\": 44.956,\n",
    "     \"Ti\": 47.867, \"V\": 50.942, \"Cr\": 51.996, \"Mn\": 54.938,\n",
    "     \"Fe\": 55.845, \"Co\": 58.933, \"Ni\": 58.693, \"Cu\": 63.546,\n",
    "     \"Zn\": 65.39, \"Ga\": 69.723, \"Ge\": 72.61, \"As\": 74.922,\n",
    "     \"Se\":78.96, \"Br\": 79.904, \"Kr\": 83.80, \"Rb\": 85.468, \"Sr\": 87.62,\n",
    "     \"Y\": 88.906, \"Zr\": 91.224, \"Nb\": 92.906, \"Mo\": 95.94,\n",
    "     \"Tc\": 97.61, \"Ru\": 101.07, \"Rh\": 102.91, \"Pd\": 106.42,\n",
    "     \"Ag\": 107.87, \"Cd\": 112.41, \"In\": 114.82, \"Sn\": 118.71,\n",
    "     \"Sb\": 121.76, \"Te\": 127.60, \"I\": 126.90, \"Xe\": 131.29,\n",
    "     \"Cs\": 132.91, \"Ba\": 137.33, \"La\": 138.91, \"Ce\": 140.12,\n",
    "     \"Pr\": 140.91, \"Nd\": 144.24, \"Pm\": 145.0, \"Sm\": 150.36, \"Eu\": 151.96,\n",
    "     \"Gd\": 157.25, \"Tb\": 158.93, \"Dy\": 162.50, \"Ho\": 164.93, \"Er\": 167.26,\n",
    "     \"Tm\": 168.93, \"Yb\": 173.04, \"Lu\": 174.97, \"Hf\": 178.49, \"Ta\": 180.95,\n",
    "     \"W\": 183.84, \"Re\": 186.21, \"Os\": 190.23, \"Ir\": 192.22, \"Pt\": 196.08,\n",
    "     \"Au\": 196.08, \"Hg\": 200.59, \"Tl\": 204.38, \"Pb\": 207.2, \"Bi\": 208.98,\n",
    "     \"Po\": 209.0, \"At\": 210.0, \"Rn\": 222.0, \"Fr\": 223.0, \"Ra\": 226.0,\n",
    "     \"Ac\": 227.0, \"Th\": 232.04, \"Pa\": 231.04, \"U\": 238.03, \"Np\": 237.0,\n",
    "     \"Pu\": 244.0, \"Am\": 243.0, \"Cm\": 247.0, \"Bk\": 247.0, \"Cf\": 251.0, \"Es\": 252.0,\n",
    "     \"Fm\": 257.0, \"Md\": 258.0, \"No\": 259.0, \"Lr\": 262.0, \"Rf\": 261.0, \"Db\": 262.0,\n",
    "     \"Sg\": 266.0, \"Bh\": 264.0, \"Hs\": 269.0, \"Mt\": 268.0}"
   ]
  },
  {
   "cell_type": "code",
   "execution_count": 15,
   "metadata": {},
   "outputs": [],
   "source": [
    "def find_groups(tokens):\n",
    "    \"\"\" To find multiples of groups \"\"\"\n",
    "    count = 0\n",
    "    for index, tok in enumerate(tokens):\n",
    "        if tok == ')':\n",
    "            count -= 1\n",
    "            if count == 0:\n",
    "                return index\n",
    "        elif tok == '(':\n",
    "            count += 1\n",
    "    raise ValueError('unmatched parentheses')"
   ]
  },
  {
   "cell_type": "code",
   "execution_count": 16,
   "metadata": {},
   "outputs": [],
   "source": [
    "def parse(tokens, stack):\n",
    "    \"\"\" Parse Data \"\"\"\n",
    "    if len(tokens) == 0:\n",
    "        return sum(stack)\n",
    "    tok = tokens[0]\n",
    "    if tok == '(':\n",
    "        end = find_groups(tokens)\n",
    "        stack.append(parse(tokens[1:end], []))\n",
    "        return parse(tokens[end + 1:], stack)\n",
    "    elif tok.isdigit():\n",
    "        stack[-1] *= int(tok)\n",
    "    else:\n",
    "        stack.append(atomic_mass[tok])\n",
    "    return parse(tokens[1:], stack)"
   ]
  },
  {
   "cell_type": "code",
   "execution_count": 17,
   "metadata": {},
   "outputs": [
    {
     "name": "stdout",
     "output_type": "stream",
     "text": [
      "Enter molecular formula: C8H10N4O2\n"
     ]
    }
   ],
   "source": [
    "formula = input('Enter molecular formula: ')"
   ]
  },
  {
   "cell_type": "code",
   "execution_count": 18,
   "metadata": {},
   "outputs": [
    {
     "name": "stdout",
     "output_type": "stream",
     "text": [
      "The molecular mass of C8H10N4O2 is 194.193\n",
      "\n"
     ]
    }
   ],
   "source": [
    "tokens = re.findall(r'[A-Z][a-z]*|\\d+|\\(|\\)', formula)\n",
    "print('The molecular mass of {} is \\n'.format(formula, parse(tokens, [])))"
   ]
  }
 ],
 "metadata": {
  "kernelspec": {
   "display_name": "Python 3",
   "language": "python",
   "name": "python3"
  },
  "language_info": {
   "codemirror_mode": {
    "name": "ipython",
    "version": 3
   },
   "file_extension": ".py",
   "mimetype": "text/x-python",
   "name": "python",
   "nbconvert_exporter": "python",
   "pygments_lexer": "ipython3",
   "version": "3.8.5"
  }
 },
 "nbformat": 4,
 "nbformat_minor": 4
}
